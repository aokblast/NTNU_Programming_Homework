{
 "cells": [
  {
   "cell_type": "code",
   "execution_count": 22,
   "metadata": {
    "collapsed": true,
    "pycharm": {
     "name": "#%%\n"
    }
   },
   "outputs": [
    {
     "name": "stdout",
     "output_type": "stream",
     "text": [
      "Timestamp 1242\n",
      "Age 48\n",
      "Gender 47\n",
      "Country 47\n",
      "state 46\n",
      "self_employed 3\n",
      "family_history 2\n",
      "treatment 2\n",
      "work_interfere 5\n",
      "no_employees 6\n",
      "remote_work 2\n",
      "tech_company 2\n",
      "benefits 3\n",
      "care_options 3\n",
      "wellness_program 3\n",
      "seek_help 3\n",
      "anonymity 3\n",
      "leave 5\n",
      "mental_health_consequence 3\n",
      "phys_health_consequence 3\n",
      "coworkers 3\n",
      "supervisor 3\n",
      "mental_health_interview 3\n",
      "phys_health_interview 3\n",
      "mental_vs_physical 3\n",
      "obs_consequence 2\n",
      "comments 160\n"
     ]
    }
   ],
   "source": [
    "import csv\n",
    "import pandas as pd\n",
    "import sys\n",
    "\n",
    "data = pd.read_csv(\"./survey.csv\")\n",
    "map = {}\n",
    "for row in data:\n",
    "    map[row] = set()\n",
    "    for col in data[row]:\n",
    "        map[row].add(col)\n",
    "\n",
    "for row in data:\n",
    "    print(row, len(map[row]))\n"
   ]
  },
  {
   "cell_type": "code",
   "execution_count": null,
   "outputs": [],
   "source": [],
   "metadata": {
    "collapsed": false,
    "pycharm": {
     "name": "#%%\n",
     "is_executing": true
    }
   }
  },
  {
   "cell_type": "code",
   "execution_count": 4,
   "outputs": [],
   "source": [],
   "metadata": {
    "collapsed": false,
    "pycharm": {
     "name": "#%%\n"
    }
   }
  }
 ],
 "metadata": {
  "kernelspec": {
   "display_name": "Python 3",
   "language": "python",
   "name": "python3"
  },
  "language_info": {
   "codemirror_mode": {
    "name": "ipython",
    "version": 2
   },
   "file_extension": ".py",
   "mimetype": "text/x-python",
   "name": "python",
   "nbconvert_exporter": "python",
   "pygments_lexer": "ipython2",
   "version": "2.7.6"
  }
 },
 "nbformat": 4,
 "nbformat_minor": 0
}