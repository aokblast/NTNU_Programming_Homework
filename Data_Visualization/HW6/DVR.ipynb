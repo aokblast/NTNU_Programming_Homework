{
 "cells": [
  {
   "cell_type": "code",
   "execution_count": 112,
   "id": "f255a218",
   "metadata": {
    "pycharm": {
     "name": "#%%\n"
    }
   },
   "outputs": [
    {
     "data": {
      "text/plain": "<Figure size 500x500 with 1 Axes>",
      "image/png": "[encoded data removed]"
     },
     "metadata": {},
     "output_type": "display_data"
    }
   ],
   "source": [
    "import numpy as np\n",
    "import matplotlib.pyplot as plt\n",
    "import json\n",
    "\n",
    "data = 0\n",
    "\n",
    "# after loading the transfer function, \n",
    "# each subarray (control point) in an opacity function: [dataValue, opacity]\n",
    "# each subarray (control point) in a color function: [dataValue, R(0-1), G(0-1), B(0-1)]\n",
    "opacityTransferFunc = []\n",
    "colorTransferFunc = []\n",
    "\n",
    "##### data loading and setup/plot image\n",
    "##### DO NOT modify this function\n",
    "def Initialize(tfFileName):\n",
    "    global data\n",
    "    plt.rcParams['figure.figsize'] = [5, 5]\n",
    "    plt.axis('off')\n",
    "    data = np.load('data.npy')\n",
    "    \n",
    "    f = open(tfFileName)\n",
    "    jsn = json.load(f)\n",
    "    jsn = jsn[0]\n",
    "\n",
    "    opacityTransferFunc.clear()\n",
    "    colorTransferFunc.clear()\n",
    "    for i in range( 0, len(jsn['Points']), 4 ):\n",
    "        tmp = []\n",
    "        tmp.append(jsn['Points'][i+0])\n",
    "        tmp.append(jsn['Points'][i+1])\n",
    "        opacityTransferFunc.append(tmp)\n",
    "    for i in range( 0, len(jsn['RGBPoints']), 4 ):\n",
    "        tmp = []\n",
    "        tmp.append(jsn['RGBPoints'][i+0])\n",
    "        tmp.append(jsn['RGBPoints'][i+1])\n",
    "        tmp.append(jsn['RGBPoints'][i+2])\n",
    "        tmp.append(jsn['RGBPoints'][i+3])\n",
    "        colorTransferFunc.append(tmp)\n",
    "\n",
    "\n",
    "###### get data value: x and y are location on the image plane, z is coordinate along the pixel depth direction\n",
    "###### In this data, x index: [0, 125), y index: [0, 125), z index: [0, 49)\n",
    "\n",
    "def getInterpolation(val, func):\n",
    "    assert len(func) >= 2\n",
    "\n",
    "    idx = 1\n",
    "\n",
    "    while not (func[idx][0] >= val >= func[idx - 1][0]):\n",
    "        idx += 1\n",
    "\n",
    "    pre = func[idx - 1]\n",
    "    cur = func[idx]\n",
    "    part = [pre[0], val, cur[0]]\n",
    "\n",
    "    def interpolation(l, r):\n",
    "        return (r - l) * (part[0] - part[1]) / (part[0] - part[2]) + l\n",
    "\n",
    "    res = []\n",
    "\n",
    "    for term in range(1, len(pre)):\n",
    "        res.append(interpolation(pre[term], cur[term]))\n",
    "\n",
    "    return res\n",
    "\n",
    "def getValue( x, y, z ):\n",
    "    global data\n",
    "    return data[ z, x, y ] \n",
    "\n",
    "###########main \n",
    "\n",
    "### initialize and load a transfer function, the input argument is the transfer function file name\n",
    "### after loading the opacity function and color function are stored in 'opacityTransferFunc' and 'colorTransferFunc'\n",
    "Initialize('TF1.json')\n",
    "\n",
    "##### 'img' is used to store the final image\n",
    "\n",
    "img = np.zeros([125, 125, 3])\n",
    "\n",
    "\n",
    "def getPointValue(x, y):\n",
    "    res = [0, 0, 0]\n",
    "\n",
    "    def getNextColor(pre, cur, alpha):\n",
    "        res = []\n",
    "\n",
    "        assert len(pre) == len(cur)\n",
    "\n",
    "        for idx in range(len(pre)):\n",
    "            res.append(pre[idx] * (1 - alpha) + cur[idx] * alpha)\n",
    "\n",
    "        return res\n",
    "\n",
    "    for z in range(49, -1, -1):\n",
    "        d = getValue(x, y, z)\n",
    "        alpha = getInterpolation(d, opacityTransferFunc)[0]\n",
    "        color = getInterpolation(d, colorTransferFunc)\n",
    "        res = getNextColor(res, color, alpha)\n",
    "\n",
    "    return res\n",
    "\n",
    "\n",
    "####### implement you direct volume rendering here and store the final image in \"img\"\n",
    "for i in range(125):\n",
    "    for j in range(125):\n",
    "        img[i][j] = getPointValue(i, j)\n",
    "\n",
    "####### show final image (img)\n",
    "plt.imshow(img)\n",
    "plt.show()\n"
   ]
  },
  {
   "cell_type": "code",
   "execution_count": null,
   "outputs": [],
   "source": [],
   "metadata": {
    "collapsed": false,
    "pycharm": {
     "name": "#%%\n"
    }
   }
  }
 ],
 "metadata": {
  "kernelspec": {
   "display_name": "Python 3 (ipykernel)",
   "language": "python",
   "name": "python3"
  },
  "language_info": {
   "codemirror_mode": {
    "name": "ipython",
    "version": 3
   },
   "file_extension": ".py",
   "mimetype": "text/x-python",
   "name": "python",
   "nbconvert_exporter": "python",
   "pygments_lexer": "ipython3",
   "version": "3.7.6"
  }
 },
 "nbformat": 4,
 "nbformat_minor": 5
}